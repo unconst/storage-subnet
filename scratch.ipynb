{
 "cells": [
  {
   "cell_type": "code",
   "execution_count": null,
   "metadata": {},
   "outputs": [],
   "source": [
    "import requests\n",
    "\n",
    "def get_btc_price_from_coinbase():\n",
    "    COINBASE_API_URL = 'https://api.coinbase.com/v2/prices/spot'\n",
    "    PARAMS = {'currency': 'USD'}\n",
    "\n",
    "    response = requests.get(COINBASE_API_URL, params=PARAMS)\n",
    "    data = response.json()\n",
    "\n",
    "    if 'data' in data and 'amount' in data['data']:\n",
    "        return float(data['data']['amount'])\n",
    "    else:\n",
    "        raise ValueError(\"Unexpected response from Coinbase API\")\n",
    "\n",
    "if __name__ == \"__main__\":\n",
    "    btc_price = get_btc_price_from_coinbase()\n",
    "    print(f\"Current BTC Price on Coinbase: ${btc_price:.2f}\")\n"
   ]
  },
  {
   "cell_type": "code",
   "execution_count": null,
   "metadata": {},
   "outputs": [],
   "source": [
    "print(f\"Current BTC Price on Coinbase: ${btc_price:.2f}\")\n"
   ]
  },
  {
   "cell_type": "code",
   "execution_count": null,
   "metadata": {},
   "outputs": [],
   "source": [
    "btc_price"
   ]
  },
  {
   "cell_type": "code",
   "execution_count": null,
   "metadata": {},
   "outputs": [],
   "source": []
  }
 ],
 "metadata": {
  "kernelspec": {
   "display_name": "38",
   "language": "python",
   "name": "python3"
  },
  "language_info": {
   "name": "python",
   "version": "3.11.4"
  },
  "orig_nbformat": 4
 },
 "nbformat": 4,
 "nbformat_minor": 2
}
