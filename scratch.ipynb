{
 "cells": [
  {
   "cell_type": "code",
   "execution_count": 2,
   "metadata": {},
   "outputs": [],
   "source": [
    "import asyncio\n",
    "import rocksdb\n",
    "import os\n",
    "\n",
    "db = rocksdb.RocksDB(os.path.expanduser('~/data_db'), rocksdb.Options(create_if_missing=True))\n"
   ]
  },
  {
   "cell_type": "code",
   "execution_count": 11,
   "metadata": {},
   "outputs": [
    {
     "data": {
      "text/plain": [
       "['loop',\n",
       " 'secondary_path',\n",
       " 'db_path',\n",
       " 'options',\n",
       " 'read_only',\n",
       " 'workers',\n",
       " 'executer',\n",
       " '_RocksDB__rocksdb',\n",
       " '__module__',\n",
       " '__doc__',\n",
       " '__init__',\n",
       " '__aenter__',\n",
       " '__aexit__',\n",
       " 'is_running',\n",
       " 'get',\n",
       " 'put',\n",
       " 'merge',\n",
       " 'keyMayExist',\n",
       " 'delete',\n",
       " 'getOptions',\n",
       " 'setOptions',\n",
       " 'setDBOptions',\n",
       " 'getProperty',\n",
       " 'flush',\n",
       " 'tryCatchUpWithPrimary',\n",
       " 'close',\n",
       " '__dict__',\n",
       " '__weakref__',\n",
       " '__new__',\n",
       " '__repr__',\n",
       " '__hash__',\n",
       " '__str__',\n",
       " '__getattribute__',\n",
       " '__setattr__',\n",
       " '__delattr__',\n",
       " '__lt__',\n",
       " '__le__',\n",
       " '__eq__',\n",
       " '__ne__',\n",
       " '__gt__',\n",
       " '__ge__',\n",
       " '__reduce_ex__',\n",
       " '__reduce__',\n",
       " '__getstate__',\n",
       " '__subclasshook__',\n",
       " '__init_subclass__',\n",
       " '__format__',\n",
       " '__sizeof__',\n",
       " '__dir__',\n",
       " '__class__']"
      ]
     },
     "execution_count": 11,
     "metadata": {},
     "output_type": "execute_result"
    }
   ],
   "source": [
    "db.__dir__()"
   ]
  },
  {
   "cell_type": "code",
   "execution_count": 5,
   "metadata": {},
   "outputs": [
    {
     "ename": "AttributeError",
     "evalue": "'RocksDB' object has no attribute 'iterkeys'",
     "output_type": "error",
     "traceback": [
      "\u001b[0;31m---------------------------------------------------------------------------\u001b[0m",
      "\u001b[0;31mAttributeError\u001b[0m                            Traceback (most recent call last)",
      "Cell \u001b[0;32mIn[5], line 3\u001b[0m\n\u001b[1;32m      1\u001b[0m \u001b[39m# Count the number of keys\u001b[39;00m\n\u001b[1;32m      2\u001b[0m key_count \u001b[39m=\u001b[39m \u001b[39m0\u001b[39m\n\u001b[0;32m----> 3\u001b[0m \u001b[39mfor\u001b[39;00m _ \u001b[39min\u001b[39;00m db\u001b[39m.\u001b[39miterkeys():\n\u001b[1;32m      4\u001b[0m     key_count \u001b[39m+\u001b[39m\u001b[39m=\u001b[39m \u001b[39m1\u001b[39m\n",
      "\u001b[0;31mAttributeError\u001b[0m: 'RocksDB' object has no attribute 'iterkeys'"
     ]
    }
   ],
   "source": [
    "# Count the number of keys\n",
    "key_count = 0\n",
    "for _ in db.iterkeys():\n",
    "    key_count += 1\n"
   ]
  },
  {
   "cell_type": "code",
   "execution_count": null,
   "metadata": {},
   "outputs": [],
   "source": [
    "btc_price"
   ]
  },
  {
   "cell_type": "code",
   "execution_count": null,
   "metadata": {},
   "outputs": [],
   "source": []
  }
 ],
 "metadata": {
  "kernelspec": {
   "display_name": "38",
   "language": "python",
   "name": "python3"
  },
  "language_info": {
   "codemirror_mode": {
    "name": "ipython",
    "version": 3
   },
   "file_extension": ".py",
   "mimetype": "text/x-python",
   "name": "python",
   "nbconvert_exporter": "python",
   "pygments_lexer": "ipython3",
   "version": "3.11.4"
  },
  "orig_nbformat": 4
 },
 "nbformat": 4,
 "nbformat_minor": 2
}
