{
 "cells": [
  {
   "cell_type": "code",
   "execution_count": 1,
   "metadata": {},
   "outputs": [
    {
     "name": "stderr",
     "output_type": "stream",
     "text": [
      "[WARNING]: failed to patch stdout/stderr for fork-safety: 'OutStream' object\n",
      "has no attribute 'buffer'\n",
      "[WARNING]: failed to reconfigure stdout/stderr with custom encoding error\n",
      "handler: 'OutStream' object has no attribute 'reconfigure'\n"
     ]
    },
    {
     "name": "stdout",
     "output_type": "stream",
     "text": [
      "miner: wallet (default, miner, ~/.bittensor/wallets/)\n",
      "validator: wallet (default, validator, ~/.bittensor/wallets/)\n"
     ]
    }
   ],
   "source": [
    "import bittensor as bt\n",
    "import allocate\n",
    "import os\n",
    "import json\n",
    "import sqlite3\n",
    "import hashlib\n",
    "\n",
    "bt.trace()\n",
    "mw = bt.wallet(hotkey = 'miner')\n",
    "vm = bt.wallet(hotkey = 'validator')\n",
    "print (f\"miner: {mw}\")\n",
    "print (f\"validator: {vm}\")"
   ]
  },
  {
   "cell_type": "code",
   "execution_count": null,
   "metadata": {},
   "outputs": [],
   "source": [
    "\n",
    "conn = sqlite3.connect(v_path)\n",
    "# cursor = conn.cursor()\n",
    "# cursor.execute(f\"SELECT data FROM DB{v_allocations_1[0]['seed']} WHERE id=?\", (str(1),))\n",
    "# stored_data = cursor.fetchone()\n",
    "# cursor.execute(f\"SELECT hash FROM DB{v_allocations_1[0]['seed']} WHERE id=?\", (str(1),))\n",
    "# stored_hash = cursor.fetchone()\n",
    "# print (f\"stored_data: {stored_data[0][-10:]}, {stored_hash}\")\n"
   ]
  },
  {
   "cell_type": "code",
   "execution_count": 23,
   "metadata": {},
   "outputs": [
    {
     "name": "stdout",
     "output_type": "stream",
     "text": [
      "\u001b[34m2023-09-04 13:48:23.669\u001b[0m | \u001b[1m      INFO      \u001b[0m | ['./target/release/storer_db_project', '--path', '/Users/napoli/bittensor-db/default/validator/DB-5F46RtCpDtdg9Dp29oiwZzFhMJjYhFZVZQTS18H1FjAhMZZo-5FWxgnZx4FjjfASTxGd11W8w7WVtWSXXvKd9G6UTjyoqyNhh', '--n', '5', '--size', '10', '--seed', '5F46RtCpDtdg9Dp29oiwZzFhMJjYhFZVZQTS18H1FjAhMZZo5FWxgnZx4FjjfASTxGd11W8w7WVtWSXXvKd9G6UTjyoqyNhh', '--hash', '--delete']\n",
      "\u001b[34m2023-09-04 13:48:23.686\u001b[0m | \u001b[1m      INFO      \u001b[0m | ['./target/release/storer_db_project', '--path', '/Users/napoli/bittensor-db/default/miner/DB-5F46RtCpDtdg9Dp29oiwZzFhMJjYhFZVZQTS18H1FjAhMZZo-5FWxgnZx4FjjfASTxGd11W8w7WVtWSXXvKd9G6UTjyoqyNhh', '--n', '5', '--size', '10', '--seed', '5F46RtCpDtdg9Dp29oiwZzFhMJjYhFZVZQTS18H1FjAhMZZo5FWxgnZx4FjjfASTxGd11W8w7WVtWSXXvKd9G6UTjyoqyNhh', '--delete']\n",
      "\u001b[34m2023-09-04 13:48:23.706\u001b[0m | \u001b[32m\u001b[1m    SUCCESS     \u001b[0m | Hash match for key 0! computed hash: e2c93515bb12a8cc8d0955faccc18eb69285533453119d22dd18f76d56c065da, stored hash: e2c93515bb12a8cc8d0955faccc18eb69285533453119d22dd18f76d56c065da\n",
      "\u001b[34m2023-09-04 13:48:23.707\u001b[0m | \u001b[32m\u001b[1m    SUCCESS     \u001b[0m | Hash match for key 1! computed hash: 9c41d2bd4cc271963c65684693cc952d7b5f8fcb4e8609039089669fd1191c93, stored hash: 9c41d2bd4cc271963c65684693cc952d7b5f8fcb4e8609039089669fd1191c93\n",
      "\u001b[34m2023-09-04 13:48:23.707\u001b[0m | \u001b[32m\u001b[1m    SUCCESS     \u001b[0m | Hash match for key 2! computed hash: ed27e38f99bdb28a5590e67b8c7c63c0b60af71ecbf06e18957fa3f6cede0655, stored hash: ed27e38f99bdb28a5590e67b8c7c63c0b60af71ecbf06e18957fa3f6cede0655\n",
      "\u001b[34m2023-09-04 13:48:23.708\u001b[0m | \u001b[32m\u001b[1m    SUCCESS     \u001b[0m | Hash match for key 3! computed hash: e8c75caa16bb4354e3eed98dce22b7d9738071789922d0df8ed3ffdc42600beb, stored hash: e8c75caa16bb4354e3eed98dce22b7d9738071789922d0df8ed3ffdc42600beb\n",
      "\u001b[34m2023-09-04 13:48:23.708\u001b[0m | \u001b[32m\u001b[1m    SUCCESS     \u001b[0m | Hash match for key 4! computed hash: c3a003bbe65ce56e61873b128e3418edd41b383366cd3956ffeaa8137b4c7ea9, stored hash: c3a003bbe65ce56e61873b128e3418edd41b383366cd3956ffeaa8137b4c7ea9\n",
      "stored_data: [('cq7qrjcKFa',), ('IuaPG6cAWe',), ('NVogo6ANry',), ('6tajFtsEVI',), ('7JFMNRHycD',)]\n",
      "\u001b[34m2023-09-04 13:48:23.708\u001b[0m | \u001b[32m\u001b[1m    SUCCESS     \u001b[0m | Verified /Users/napoli/bittensor-db/default/miner/DB-5F46RtCpDtdg9Dp29oiwZzFhMJjYhFZVZQTS18H1FjAhMZZo-5FWxgnZx4FjjfASTxGd11W8w7WVtWSXXvKd9G6UTjyoqyNhh with hashes from /Users/napoli/bittensor-db/default/validator/DB-5F46RtCpDtdg9Dp29oiwZzFhMJjYhFZVZQTS18H1FjAhMZZo-5FWxgnZx4FjjfASTxGd11W8w7WVtWSXXvKd9G6UTjyoqyNhh\n",
      "\u001b[34m2023-09-04 13:48:23.710\u001b[0m | \u001b[1m      INFO      \u001b[0m | ['./target/release/storer_db_project', '--path', '/Users/napoli/bittensor-db/default/miner/DB-5F46RtCpDtdg9Dp29oiwZzFhMJjYhFZVZQTS18H1FjAhMZZo-5FWxgnZx4FjjfASTxGd11W8w7WVtWSXXvKd9G6UTjyoqyNhh', '--n', '2', '--size', '10', '--seed', '5F46RtCpDtdg9Dp29oiwZzFhMJjYhFZVZQTS18H1FjAhMZZo5FWxgnZx4FjjfASTxGd11W8w7WVtWSXXvKd9G6UTjyoqyNhh']\n",
      "\u001b[34m2023-09-04 13:48:23.721\u001b[0m | \u001b[32m\u001b[1m    SUCCESS     \u001b[0m | Hash match for key 0! computed hash: e2c93515bb12a8cc8d0955faccc18eb69285533453119d22dd18f76d56c065da, stored hash: e2c93515bb12a8cc8d0955faccc18eb69285533453119d22dd18f76d56c065da\n",
      "\u001b[34m2023-09-04 13:48:23.722\u001b[0m | \u001b[32m\u001b[1m    SUCCESS     \u001b[0m | Hash match for key 1! computed hash: 9c41d2bd4cc271963c65684693cc952d7b5f8fcb4e8609039089669fd1191c93, stored hash: 9c41d2bd4cc271963c65684693cc952d7b5f8fcb4e8609039089669fd1191c93\n",
      "\u001b[34m2023-09-04 13:48:23.722\u001b[0m | \u001b[32m\u001b[1m    SUCCESS     \u001b[0m | Hash match for key 2! computed hash: ed27e38f99bdb28a5590e67b8c7c63c0b60af71ecbf06e18957fa3f6cede0655, stored hash: ed27e38f99bdb28a5590e67b8c7c63c0b60af71ecbf06e18957fa3f6cede0655\n",
      "\u001b[34m2023-09-04 13:48:23.722\u001b[0m | \u001b[32m\u001b[1m    SUCCESS     \u001b[0m | Verified /Users/napoli/bittensor-db/default/miner/DB-5F46RtCpDtdg9Dp29oiwZzFhMJjYhFZVZQTS18H1FjAhMZZo-5FWxgnZx4FjjfASTxGd11W8w7WVtWSXXvKd9G6UTjyoqyNhh with hashes from /Users/napoli/bittensor-db/default/validator/DB-5F46RtCpDtdg9Dp29oiwZzFhMJjYhFZVZQTS18H1FjAhMZZo-5FWxgnZx4FjjfASTxGd11W8w7WVtWSXXvKd9G6UTjyoqyNhh\n",
      "stored_data: [('cq7qrjcKFa',), ('IuaPG6cAWe',), ('NVogo6ANry',)]\n",
      "\u001b[34m2023-09-04 13:48:23.724\u001b[0m | \u001b[1m      INFO      \u001b[0m | ['./target/release/storer_db_project', '--path', '/Users/napoli/bittensor-db/default/miner/DB-5F46RtCpDtdg9Dp29oiwZzFhMJjYhFZVZQTS18H1FjAhMZZo-5FWxgnZx4FjjfASTxGd11W8w7WVtWSXXvKd9G6UTjyoqyNhh', '--n', '5', '--size', '10', '--seed', '5F46RtCpDtdg9Dp29oiwZzFhMJjYhFZVZQTS18H1FjAhMZZo5FWxgnZx4FjjfASTxGd11W8w7WVtWSXXvKd9G6UTjyoqyNhh']\n",
      "\u001b[34m2023-09-04 13:48:23.735\u001b[0m | \u001b[32m\u001b[1m    SUCCESS     \u001b[0m | Hash match for key 0! computed hash: e2c93515bb12a8cc8d0955faccc18eb69285533453119d22dd18f76d56c065da, stored hash: e2c93515bb12a8cc8d0955faccc18eb69285533453119d22dd18f76d56c065da\n",
      "\u001b[34m2023-09-04 13:48:23.735\u001b[0m | \u001b[32m\u001b[1m    SUCCESS     \u001b[0m | Hash match for key 1! computed hash: 9c41d2bd4cc271963c65684693cc952d7b5f8fcb4e8609039089669fd1191c93, stored hash: 9c41d2bd4cc271963c65684693cc952d7b5f8fcb4e8609039089669fd1191c93\n",
      "\u001b[34m2023-09-04 13:48:23.736\u001b[0m | \u001b[32m\u001b[1m    SUCCESS     \u001b[0m | Hash match for key 2! computed hash: ed27e38f99bdb28a5590e67b8c7c63c0b60af71ecbf06e18957fa3f6cede0655, stored hash: ed27e38f99bdb28a5590e67b8c7c63c0b60af71ecbf06e18957fa3f6cede0655\n",
      "stored_data: [('cq7qrjcKFa',), ('IuaPG6cAWe',), ('NVogo6ANry',), ('cq7qrjcKFa',), ('IuaPG6cAWe',)]\n",
      "\u001b[34m2023-09-04 13:48:23.736\u001b[0m | \u001b[31m\u001b[1m     ERROR      \u001b[0m | Hash mismatch for key 3!, computed hash: e2c93515bb12a8cc8d0955faccc18eb69285533453119d22dd18f76d56c065da, stored hash: e8c75caa16bb4354e3eed98dce22b7d9738071789922d0df8ed3ffdc42600beb\n"
     ]
    }
   ],
   "source": [
    "\n",
    "v_path = f\"/Users/napoli/bittensor-db/default/validator/DB-5F46RtCpDtdg9Dp29oiwZzFhMJjYhFZVZQTS18H1FjAhMZZo-5FWxgnZx4FjjfASTxGd11W8w7WVtWSXXvKd9G6UTjyoqyNhh\"\n",
    "v_allocations = [\n",
    "    {\n",
    "        'path': v_path,\n",
    "        'n_chunks': 5,\n",
    "        'seed': f\"{mw.hotkey.ss58_address}{vm.hotkey.ss58_address}\",\n",
    "        'miner': mw.hotkey.ss58_address,\n",
    "        'validator': vm.hotkey.ss58_address,\n",
    "        'hash': True,\n",
    "    }\n",
    "]\n",
    "m_path = f\"/Users/napoli/bittensor-db/default/miner/DB-5F46RtCpDtdg9Dp29oiwZzFhMJjYhFZVZQTS18H1FjAhMZZo-5FWxgnZx4FjjfASTxGd11W8w7WVtWSXXvKd9G6UTjyoqyNhh\"\n",
    "m_allocations = [\n",
    "    {\n",
    "        'path': m_path,\n",
    "        'n_chunks': 5,\n",
    "        'seed': f\"{mw.hotkey.ss58_address}{vm.hotkey.ss58_address}\",\n",
    "        'miner': mw.hotkey.ss58_address,\n",
    "        'validator': vm.hotkey.ss58_address,\n",
    "        'hash': False,\n",
    "    }\n",
    "]\n",
    "allocate.generate( v_allocations, no_prompt = True, workers = 10, restart = True )\n",
    "allocate.generate( m_allocations, no_prompt = True, workers = 10, restart = True )\n",
    "# allocate.verify( m_allocations, v_allocations )\n",
    "conn = sqlite3.connect('/Users/napoli/bittensor-db/default/miner/DB-5F46RtCpDtdg9Dp29oiwZzFhMJjYhFZVZQTS18H1FjAhMZZo-5FWxgnZx4FjjfASTxGd11W8w7WVtWSXXvKd9G6UTjyoqyNhh')\n",
    "cursor = conn.cursor()\n",
    "qq = f\"SELECT data FROM DB{v_allocations[0]['seed']} WHERE id>=?\"\n",
    "cursor.execute(qq, (str(0),))\n",
    "stored_data = cursor.fetchall()\n",
    "print (f\"stored_data: {stored_data}\")\n",
    "m_allocations = [\n",
    "    {\n",
    "        'path': m_path,\n",
    "        'n_chunks': 2,\n",
    "        'seed': f\"{mw.hotkey.ss58_address}{vm.hotkey.ss58_address}\",\n",
    "        'miner': mw.hotkey.ss58_address,\n",
    "        'validator': vm.hotkey.ss58_address,\n",
    "        'hash': False,\n",
    "    }\n",
    "]\n",
    "allocate.generate( m_allocations, no_prompt = True, workers = 10, restart = False )\n",
    "# allocate.verify( m_allocations, v_allocations )\n",
    "conn = sqlite3.connect('/Users/napoli/bittensor-db/default/miner/DB-5F46RtCpDtdg9Dp29oiwZzFhMJjYhFZVZQTS18H1FjAhMZZo-5FWxgnZx4FjjfASTxGd11W8w7WVtWSXXvKd9G6UTjyoqyNhh')\n",
    "cursor = conn.cursor()\n",
    "qq = f\"SELECT data FROM DB{v_allocations[0]['seed']} WHERE id>=?\"\n",
    "cursor.execute(qq, (str(0),))\n",
    "stored_data = cursor.fetchall()\n",
    "print (f\"stored_data: {stored_data}\")\n",
    "m_allocations = [\n",
    "    {\n",
    "        'path': m_path,\n",
    "        'n_chunks': 5,\n",
    "        'seed': f\"{mw.hotkey.ss58_address}{vm.hotkey.ss58_address}\",\n",
    "        'miner': mw.hotkey.ss58_address,\n",
    "        'validator': vm.hotkey.ss58_address,\n",
    "        'hash': False,\n",
    "    }\n",
    "]\n",
    "allocate.generate( m_allocations, no_prompt = True, workers = 10, restart = False )\n",
    "# allocate.verify( m_allocations, v_allocations )\n",
    "conn = sqlite3.connect('/Users/napoli/bittensor-db/default/miner/DB-5F46RtCpDtdg9Dp29oiwZzFhMJjYhFZVZQTS18H1FjAhMZZo-5FWxgnZx4FjjfASTxGd11W8w7WVtWSXXvKd9G6UTjyoqyNhh')\n",
    "cursor = conn.cursor()\n",
    "qq = f\"SELECT data FROM DB{v_allocations[0]['seed']} WHERE id>=?\"\n",
    "cursor.execute(qq, (str(0),))\n",
    "stored_data = cursor.fetchall()\n",
    "print (f\"stored_data: {stored_data}\")\n"
   ]
  },
  {
   "cell_type": "code",
   "execution_count": 20,
   "metadata": {},
   "outputs": [
    {
     "name": "stdout",
     "output_type": "stream",
     "text": [
      "stored_data: [('NVogo6ANry',), ('cq7qrjcKFa',), ('IuaPG6cAWe',)]\n"
     ]
    }
   ],
   "source": [
    "conn = sqlite3.connect('/Users/napoli/bittensor-db/default/miner/DB-5F46RtCpDtdg9Dp29oiwZzFhMJjYhFZVZQTS18H1FjAhMZZo-5FWxgnZx4FjjfASTxGd11W8w7WVtWSXXvKd9G6UTjyoqyNhh')\n",
    "cursor = conn.cursor()\n",
    "qq = f\"SELECT data FROM DB{v_allocations[0]['seed']} WHERE id>?\"\n",
    "cursor.execute(qq, (str(1),))\n",
    "stored_data = cursor.fetchall()\n",
    "print (f\"stored_data: {stored_data}\")"
   ]
  },
  {
   "cell_type": "code",
   "execution_count": 15,
   "metadata": {},
   "outputs": [
    {
     "data": {
      "text/plain": [
       "'5F46RtCpDtdg9Dp29oiwZzFhMJjYhFZVZQTS18H1FjAhMZZo5FWxgnZx4FjjfASTxGd11W8w7WVtWSXXvKd9G6UTjyoqyNhh'"
      ]
     },
     "execution_count": 15,
     "metadata": {},
     "output_type": "execute_result"
    }
   ],
   "source": [
    "v_allocations[0]['seed']"
   ]
  },
  {
   "cell_type": "code",
   "execution_count": null,
   "metadata": {},
   "outputs": [],
   "source": []
  }
 ],
 "metadata": {
  "kernelspec": {
   "display_name": "38",
   "language": "python",
   "name": "python3"
  },
  "language_info": {
   "codemirror_mode": {
    "name": "ipython",
    "version": 3
   },
   "file_extension": ".py",
   "mimetype": "text/x-python",
   "name": "python",
   "nbconvert_exporter": "python",
   "pygments_lexer": "ipython3",
   "version": "3.11.4"
  },
  "orig_nbformat": 4
 },
 "nbformat": 4,
 "nbformat_minor": 2
}
